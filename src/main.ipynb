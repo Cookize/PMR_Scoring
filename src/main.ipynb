{
 "cells": [
  {
   "cell_type": "code",
   "execution_count": 2,
   "metadata": {},
   "outputs": [],
   "source": [
    "import pandas as pd\n",
    "import numpy as np\n",
    "import matplotlib.pyplot as plt\n",
    "import matplotlib.mlab as mlab \n",
    "import scipy.stats as stats\n",
    "import math"
   ]
  },
  {
   "cell_type": "code",
   "execution_count": 1,
   "metadata": {},
   "outputs": [],
   "source": [
    "# 导入数据\n",
    "def load_data():\n",
    "    print(\"/----------------------------------------------------/\")\n",
    "    print(\"Start loading data:\")\n",
    "    data = pd.read_excel('../data/only-score.xlsx')\n",
    "    data.drop(['Unnamed: 0'], axis=1, inplace=True)\n",
    "    print(\"Finish loading data!\\nShape of data:\", data.shape)\n",
    "    return data"
   ]
  },
  {
   "cell_type": "code",
   "execution_count": 3,
   "metadata": {},
   "outputs": [],
   "source": [
    "# 根据缺失数据位置进行切片，得到无缺失的评分矩阵\n",
    "def drop_all_na(df):\n",
    "    print(\"/----------------------------------------------------/\")\n",
    "    print(\"Start droping all 'nan' values:\")\n",
    "    if not isinstance(df, pd.DataFrame):\n",
    "        print(\"ERROR: Not DF.\")\n",
    "        return df\n",
    "    ret_df = df.copy()\n",
    "    ret_df.dropna(axis=1, how=\"all\", inplace=True)\n",
    "    ret_df.dropna(axis=0, how=\"any\", inplace=True)\n",
    "    print(\"Finish droping!\\nShape of data:\", ret_df.shape)\n",
    "    return ret_df"
   ]
  },
  {
   "cell_type": "code",
   "execution_count": 4,
   "metadata": {},
   "outputs": [],
   "source": [
    "# 丢弃完全缺失的数据，得到部分缺失的评分矩阵\n",
    "def drop_partail_na(df):\n",
    "    print(\"/----------------------------------------------------/\")\n",
    "    print(\"Start droping partial 'nan' values:\")\n",
    "    if not isinstance(df, pd.DataFrame):\n",
    "        print(\"ERROR: Not DF.\")\n",
    "        return df\n",
    "    ret_df = df.copy()\n",
    "    ret_df.dropna(axis=1, how=\"all\", inplace=True)\n",
    "    ret_df.dropna(axis=0, how=\"all\", inplace=True)\n",
    "    print(\"Finish droping!\\nShape of data:\", ret_df.shape)\n",
    "    return ret_df"
   ]
  },
  {
   "cell_type": "code",
   "execution_count": 5,
   "metadata": {},
   "outputs": [],
   "source": [
    "# 打印评分Series的柱状图\n",
    "def print_bar(data):\n",
    "    plt.figure()\n",
    "    plt.bar(data.index, data)\n",
    "    plt.show()\n",
    "    return\n",
    "def print_dup_bar(data_list):\n",
    "    total_width, n = 1, len(data_list) + 1\n",
    "    width = total_width / n\n",
    "    for i in range(len(data_list)):\n",
    "        plt.bar(data_list[i].index + width * i, data_list[i], width=width)\n",
    "    plt.show()"
   ]
  },
  {
   "cell_type": "code",
   "execution_count": 6,
   "metadata": {},
   "outputs": [],
   "source": [
    "# 检查是否对自己评分出现误差\n",
    "def solve_selfish(data):\n",
    "    print(\"/----------------------------------------------------/\")\n",
    "    print(\"Start checking selfishness:\")\n",
    "    self_score = pd.Series(data=data.columns.isin(data.index), index=data.columns)\n",
    "    for column in data.columns:\n",
    "        if not self_score[column]:\n",
    "            continue\n",
    "        if data.at[column, column] == np.nan:\n",
    "            continue\n",
    "        mean = data.loc[:,column].drop(column).mean(skipna=True)\n",
    "        std = data.loc[:,column].drop(column).std(skipna=True)\n",
    "        conf_intveral = stats.norm.interval(0.9, loc=mean, scale=std)\n",
    "        if data.at[column, column] > conf_intveral[1]:\n",
    "            data.at[column, column] = mean\n",
    "            print(column, \"is selfish.\")\n",
    "        elif data.at[column, column] < conf_intveral[0]:\n",
    "            data.at[column, column] = mean\n",
    "            print(column, \"is lack of confidence.\")\n",
    "    normalize_score(data)\n",
    "    print(\"Finish tuning!\")\n",
    "    return data"
   ]
  },
  {
   "cell_type": "code",
   "execution_count": 12,
   "metadata": {},
   "outputs": [],
   "source": [
    "# 按行/列标准化数据\n",
    "def normalize_score(data, axis=0):\n",
    "    if isinstance(data, pd.DataFrame) or isinstance(data, pd.Series):\n",
    "        mean = data.mean(axis=1-axis, skipna=True)\n",
    "        std = data.std(axis=1-axis, skipna=True)\n",
    "        data = data.sub(mean, axis=axis).div(std, axis=axis)\n",
    "    return data"
   ]
  },
  {
   "cell_type": "code",
   "execution_count": 8,
   "metadata": {},
   "outputs": [],
   "source": [
    "# 按照样本反标准化数据\n",
    "def denormalize_score(data, example):\n",
    "    output = data.mean(axis=0, skipna=True).mul(example.std(skipna=True)).add(example.mean(skipna=True))\n",
    "    return output"
   ]
  },
  {
   "cell_type": "code",
   "execution_count": 9,
   "metadata": {},
   "outputs": [],
   "source": [
    "# 使用减小评分人评分标准差距的策略\n",
    "def get_score(score_df_origin, cnsidr_nan = False):\n",
    "    \n",
    "    if cnsidr_nan:\n",
    "        score_df_lite = drop_partail_na(score_df_origin)\n",
    "    else:\n",
    "        score_df_lite = drop_all_na(score_df_origin)\n",
    "    \n",
    "    # 计算源数据的数值特征\n",
    "    score_mean_origin = score_df_lite.mean(axis=0, skipna=cnsidr_nan)\n",
    "    \n",
    "    # 标准化源数据\n",
    "    score_df_lite_norm = normalize_score(score_df_lite, axis=0)\n",
    "    \n",
    "    # 计算最终成绩 Version 1\n",
    "    score_final_v1 = denormalize_score(score_df_lite_norm, score_mean_origin)\n",
    "    \n",
    "    # 减轻自私因素造成的偏差\n",
    "    score_df_lite_norm_v2 = solve_selfish(score_df_lite_norm)\n",
    "    \n",
    "    # 计算最终成绩 Version 2\n",
    "    score_final_v2 = denormalize_score(score_df_lite_norm_v2, score_mean_origin)\n",
    "    \n",
    "    return score_mean_origin.round(decimals=2), score_final_v1.round(decimals=2), score_final_v2.round(decimals=2)"
   ]
  },
  {
   "cell_type": "code",
   "execution_count": 10,
   "metadata": {},
   "outputs": [],
   "source": [
    "# 比较处理前后分数\n",
    "def evaluate(data_list, index):\n",
    "    print(\"/----------------------------------------------------/\")\n",
    "    print(\"Start evaluating result:\")\n",
    "    # 输出柱状图\n",
    "    print_dup_bar(data_list)\n",
    "    \n",
    "    # 输出表格\n",
    "    print(\"Comparing score:\")\n",
    "    print(pd.DataFrame(data=data_list, index=index).T)\n",
    "    print(\"/----------------------------------------------------/\")\n",
    "    # 输出排名变化情况\n",
    "    print(\"Comparing rank:\")\n",
    "    rank_list = [data.rank(ascending=False, method='min').astype('int') for data in data_list]\n",
    "    print(pd.DataFrame(data=rank_list, index=index).T)"
   ]
  },
  {
   "cell_type": "code",
   "execution_count": 15,
   "metadata": {
    "scrolled": false
   },
   "outputs": [
    {
     "name": "stdout",
     "output_type": "stream",
     "text": [
      "/----------------------------------------------------/\n",
      "Start loading data:\n",
      "Finish loading data!\n",
      "Shape of data: (31, 27)\n",
      "/----------------------------------------------------/\n",
      "Solution 1: Drop all missing data:\n",
      "/----------------------------------------------------/\n",
      "Start droping all 'nan' values:\n",
      "Finish droping!\n",
      "Shape of data: (17, 23)\n",
      "/----------------------------------------------------/\n",
      "Start checking selfishness:\n",
      "2 is selfish.\n",
      "9 is selfish.\n",
      "17 is selfish.\n",
      "21 is selfish.\n",
      "22 is selfish.\n",
      "Finish tuning!\n",
      "/----------------------------------------------------/\n",
      "Start evaluating result:\n"
     ]
    },
    {
     "data": {
      "image/png": "[encoded data removed]",
      "text/plain": [
       "<Figure size 432x288 with 1 Axes>"
      ]
     },
     "metadata": {
      "needs_background": "light"
     },
     "output_type": "display_data"
    },
    {
     "name": "stdout",
     "output_type": "stream",
     "text": [
      "Comparing score:\n",
      "    Origin  Normalization  Deselfish\n",
      "1    79.71          83.69      83.69\n",
      "2    79.59          83.56      83.28\n",
      "3    87.76          88.46      88.46\n",
      "4    89.71          88.36      88.36\n",
      "5    89.41          88.51      88.51\n",
      "7    88.65          88.04      88.04\n",
      "8    89.47          88.69      88.69\n",
      "9    89.06          88.85      88.50\n",
      "10   88.47          88.01      88.01\n",
      "11   92.00          90.70      90.70\n",
      "12   91.53          90.04      90.04\n",
      "13   89.29          88.69      88.69\n",
      "14   91.59          90.25      90.25\n",
      "15   89.24          89.27      89.27\n",
      "16   87.59          88.34      88.34\n",
      "17   89.88          88.62      88.29\n",
      "18   89.12          87.77      87.77\n",
      "19   86.76          86.86      86.86\n",
      "20   86.88          87.52      87.52\n",
      "21   86.29          87.19      86.95\n",
      "22   86.76          87.47      87.20\n",
      "23   86.76          87.22      87.22\n",
      "27   89.94          89.35      89.35\n",
      "/----------------------------------------------------/\n",
      "Comparing rank:\n",
      "    Origin  Normalization  Deselfish\n",
      "1       22             22         22\n",
      "2       23             23         23\n",
      "3       15             11         10\n",
      "4        6             12         11\n",
      "5        8             10          8\n",
      "7       13             14         14\n",
      "8        7              7          6\n",
      "9       12              6          9\n",
      "10      14             15         15\n",
      "11       1              1          1\n",
      "12       3              3          3\n",
      "13       9              7          6\n",
      "14       2              2          2\n",
      "15      10              5          5\n",
      "16      16             13         12\n",
      "17       5              9         13\n",
      "18      11             16         16\n",
      "19      18             21         21\n",
      "20      17             17         17\n",
      "21      21             20         20\n",
      "22      18             18         19\n",
      "23      18             19         18\n",
      "27       4              4          4\n",
      "/----------------------------------------------------/\n",
      "Solution 2: Drop partial missing data:\n",
      "/----------------------------------------------------/\n",
      "Start droping all 'nan' values:\n",
      "Finish droping!\n",
      "Shape of data: (17, 23)\n",
      "/----------------------------------------------------/\n",
      "Start checking selfishness:\n",
      "2 is selfish.\n",
      "9 is selfish.\n",
      "17 is selfish.\n",
      "21 is selfish.\n",
      "22 is selfish.\n",
      "Finish tuning!\n",
      "/----------------------------------------------------/\n",
      "Start evaluating result:\n"
     ]
    },
    {
     "data": {
      "image/png": "[encoded data removed]",
      "text/plain": [
       "<Figure size 432x288 with 1 Axes>"
      ]
     },
     "metadata": {
      "needs_background": "light"
     },
     "output_type": "display_data"
    },
    {
     "name": "stdout",
     "output_type": "stream",
     "text": [
      "Comparing score:\n",
      "    Origin  Normalization  Deselfish\n",
      "1    79.71          83.69      83.69\n",
      "2    79.59          83.56      83.28\n",
      "3    87.76          88.46      88.46\n",
      "4    89.71          88.36      88.36\n",
      "5    89.41          88.51      88.51\n",
      "7    88.65          88.04      88.04\n",
      "8    89.47          88.69      88.69\n",
      "9    89.06          88.85      88.50\n",
      "10   88.47          88.01      88.01\n",
      "11   92.00          90.70      90.70\n",
      "12   91.53          90.04      90.04\n",
      "13   89.29          88.69      88.69\n",
      "14   91.59          90.25      90.25\n",
      "15   89.24          89.27      89.27\n",
      "16   87.59          88.34      88.34\n",
      "17   89.88          88.62      88.29\n",
      "18   89.12          87.77      87.77\n",
      "19   86.76          86.86      86.86\n",
      "20   86.88          87.52      87.52\n",
      "21   86.29          87.19      86.95\n",
      "22   86.76          87.47      87.20\n",
      "23   86.76          87.22      87.22\n",
      "27   89.94          89.35      89.35\n",
      "/----------------------------------------------------/\n",
      "Comparing rank:\n",
      "    Origin  Normalization  Deselfish\n",
      "1       22             22         22\n",
      "2       23             23         23\n",
      "3       15             11         10\n",
      "4        6             12         11\n",
      "5        8             10          8\n",
      "7       13             14         14\n",
      "8        7              7          6\n",
      "9       12              6          9\n",
      "10      14             15         15\n",
      "11       1              1          1\n",
      "12       3              3          3\n",
      "13       9              7          6\n",
      "14       2              2          2\n",
      "15      10              5          5\n",
      "16      16             13         12\n",
      "17       5              9         13\n",
      "18      11             16         16\n",
      "19      18             21         21\n",
      "20      17             17         17\n",
      "21      21             20         20\n",
      "22      18             18         19\n",
      "23      18             19         18\n",
      "27       4              4          4\n"
     ]
    }
   ],
   "source": [
    "if __name__ == \"__main__\":\n",
    "    score_df = load_data()\n",
    "    print(\"/----------------------------------------------------/\")\n",
    "    print(\"Solution 1: Drop all missing data:\")\n",
    "    score_origin, score_final_v1, score_norm_v2 = get_score(score_df, False)\n",
    "    evaluate([score_origin, score_final_v1, score_norm_v2], [\"Origin\", \"Normalization\", \"Deselfish\"])\n",
    "    print(\"/----------------------------------------------------/\")\n",
    "    print(\"Solution 2: Drop partial missing data:\")\n",
    "    score_origin, score_final_v1, score_norm_v2 = get_score(score_df, True)\n",
    "    evaluate([score_origin, score_final_v1, score_norm_v2], [\"Origin\", \"Normalization\", \"Deselfish\"])"
   ]
  },
  {
   "cell_type": "code",
   "execution_count": 22,
   "metadata": {},
   "outputs": [
    {
     "data": {
      "text/plain": [
       "[<matplotlib.lines.Line2D at 0x169bf224ac8>]"
      ]
     },
     "execution_count": 22,
     "metadata": {},
     "output_type": "execute_result"
    },
    {
     "data": {
      "image/png": "[encoded data removed]",
      "text/plain": [
       "<Figure size 432x288 with 1 Axes>"
      ]
     },
     "metadata": {
      "needs_background": "light"
     },
     "output_type": "display_data"
    }
   ],
   "source": [
    "# num_bins = 10\n",
    "# n, bins, patches = plt.hist(s_2, num_bins, density=1) \n",
    "# y_True = sta.norm.pdf(bins, s_2_mean, s_2_sigma)\n",
    "# plt.plot(bins, y_True, color='r', label='True')"
   ]
  },
  {
   "cell_type": "code",
   "execution_count": 13,
   "metadata": {},
   "outputs": [
    {
     "data": {
      "text/plain": [
       "[<matplotlib.lines.Line2D at 0x169bd169550>]"
      ]
     },
     "execution_count": 13,
     "metadata": {},
     "output_type": "execute_result"
    },
    {
     "data": {
      "image/png": "[encoded data removed]",
      "text/plain": [
       "<Figure size 432x288 with 1 Axes>"
      ]
     },
     "metadata": {
      "needs_background": "light"
     },
     "output_type": "display_data"
    }
   ],
   "source": [
    "# num_bins = 10\n",
    "# n, bins, patches = plt.hist(score_df_lite.loc[2], num_bins, density=1) \n",
    "# y_True = sta.norm.pdf(bins, score_df_lite.loc[2].mean(), score_df_lite.loc[2].std())\n",
    "# plt.plot(bins, y_True, color='r', label='True')"
   ]
  },
  {
   "cell_type": "code",
   "execution_count": 14,
   "metadata": {},
   "outputs": [
    {
     "data": {
      "text/plain": [
       "1     85.0\n",
       "2     85.0\n",
       "3     90.0\n",
       "4     82.0\n",
       "5     90.0\n",
       "7     85.0\n",
       "8     89.0\n",
       "9     83.0\n",
       "10    85.0\n",
       "11    89.0\n",
       "12    88.0\n",
       "13    83.0\n",
       "14    90.0\n",
       "15    90.0\n",
       "16    90.0\n",
       "17    83.0\n",
       "18    81.0\n",
       "19    82.0\n",
       "20    80.0\n",
       "21    80.0\n",
       "22    80.0\n",
       "23    80.0\n",
       "27    86.0\n",
       "Name: 2, dtype: float64"
      ]
     },
     "execution_count": 14,
     "metadata": {},
     "output_type": "execute_result"
    }
   ],
   "source": [
    "# score_df_lite.loc[2]"
   ]
  }
 ],
 "metadata": {
  "kernelspec": {
   "display_name": "Python 3",
   "language": "python",
   "name": "python3"
  },
  "language_info": {
   "codemirror_mode": {
    "name": "ipython",
    "version": 3
   },
   "file_extension": ".py",
   "mimetype": "text/x-python",
   "name": "python",
   "nbconvert_exporter": "python",
   "pygments_lexer": "ipython3",
   "version": "3.7.3"
  }
 },
 "nbformat": 4,
 "nbformat_minor": 2
}
